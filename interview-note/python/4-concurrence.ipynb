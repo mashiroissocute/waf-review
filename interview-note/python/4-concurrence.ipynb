{
 "cells": [
  {
   "cell_type": "markdown",
   "id": "d36a1447-cda7-4a91-8c7f-67dd11b118a0",
   "metadata": {},
   "source": [
    "python 多进程和多线程编程提供了标准库\n",
    "\n",
    "多进程是from concurrent.futures import ProcessPoolExecutor\n",
    "多线程是from concurrent.futures import ThreadPoolExecutor\n",
    "\n",
    "进程通信可以用管道 from multiprocessing import Queue\n",
    "线程通信共享进程内存空间\n",
    "\n",
    "进程同步用互斥锁、条件变量、信号量 from multiprocessing import Lock,Contidion,Semaphore"
   ]
  },
  {
   "cell_type": "code",
   "execution_count": 2,
   "id": "e7ae9d3b-d201-4524-bd21-55dd533d295f",
   "metadata": {},
   "outputs": [
    {
     "name": "stdout",
     "output_type": "stream",
     "text": [
      "multi thread cost 9.5367431640625e-07\n",
      "multi process cost 4.76837158203125e-07\n"
     ]
    }
   ],
   "source": [
    "from threading import Lock\n",
    "from concurrent.futures import ThreadPoolExecutor,as_completed,ProcessPoolExecutor\n",
    "from multiprocessing import Queue\n",
    "from functools import reduce\n",
    "import time\n",
    "\n",
    "\n",
    "class bank:\n",
    "    def __init__(self):\n",
    "        self.balance = 0\n",
    "        self.lock = Lock()\n",
    "    def add(self,num):\n",
    "        with self.lock:\n",
    "            self.balance += num\n",
    "\n",
    "def multi_thread():\n",
    "    b = bank()\n",
    "    with ThreadPoolExecutor(max_workers=16) as pool:\n",
    "        for i in range(0,1000):\n",
    "            pool.submit(b.add,1)\n",
    "    print(b.balance)\n",
    "    \n",
    "\n",
    "class is_prime:\n",
    "    def __init__(self,num,queue:Queue):\n",
    "        self.num = num\n",
    "        self.queue = queue\n",
    "    \n",
    "    def check_prime(self,start,end):\n",
    "        print(f'check {start}-{end}')\n",
    "        for i in range(start,end):\n",
    "            if self.num % i == 0:\n",
    "                return 1\n",
    "        return 0\n",
    "    \n",
    "    def multi_thread(self):\n",
    "        with ThreadPoolExecutor(max_workers=16) as pool:\n",
    "            \n",
    "            start,end = 2,int(self.num**0.5)\n",
    "            period = int((end - start) / 16)\n",
    "            \n",
    "            future_list = []\n",
    "            \n",
    "            while start < end:\n",
    "                future = pool.submit(self.check_prime,start,start+period)\n",
    "                future_list.append(future)\n",
    "                start = start + period\n",
    "                \n",
    "                \n",
    "            if reduce(lambda x,y:x+y , [future.result() for future in as_completed(future_list)]) == 0 :\n",
    "                print(f'{self.num} is prime')\n",
    "                \n",
    "    def multi_process(self):\n",
    "        with ProcessPoolExecutor(max_workers=2) as pool:\n",
    "            start,end = 2,int(self.num**0.5)\n",
    "            period = int((end - start) / 16)\n",
    "            \n",
    "            future_list = []\n",
    "            \n",
    "            while start < end:\n",
    "                future = pool.submit(self.check_prime,start,start+period)\n",
    "                future_list.append(future)\n",
    "                start = start + period\n",
    "                \n",
    "                \n",
    "            if reduce(lambda x,y:x+y , [future.result() for future in as_completed(future_list)]) == 0 :\n",
    "                print(f'{self.num} is prime')\n",
    "\n",
    "    \n",
    "    def multi_process_queue(self):\n",
    "        \n",
    "        def num_producer():\n",
    "            for i in range(2,self.num**0.5+1):\n",
    "                self.queue.put(i)\n",
    "            return\n",
    "            \n",
    "        def num_consumer():\n",
    "            while True:\n",
    "                i = self.queue.get()\n",
    "                if self.num % i == 0:\n",
    "                    return 1\n",
    "                if i == self.num**0.5:\n",
    "                    self.queue.put(i)\n",
    "                    return 0\n",
    "                \n",
    "        with ProcessPoolExecutor() as pool:\n",
    "            producr_future = pool.submit(num_producer)\n",
    "            consumer_future_list = [pool.submit(num_consumer) for i in range(0,4)]\n",
    "            \n",
    "        \n",
    "            if reduce(lambda x,y:x+y , [future.result() for future in as_completed(consumer_future_list)]) == 0 :\n",
    "                print(f'{self.num} is prime')\n",
    "\n",
    "\n",
    "        \n",
    "            \n",
    "            \n",
    "if __name__ == '__main__':\n",
    "    \n",
    "    isP = is_prime(1000000,Queue())\n",
    "    start = time.time()\n",
    "    # isP.multi_thread()\n",
    "    end = time.time()\n",
    "    print(f'multi thread cost {end-start}')\n",
    "    start =time.time()\n",
    "    # isP.multi_process()\n",
    "    end = time.time()\n",
    "    print(f'multi process cost {end - start}')\n",
    "    \n",
    "    # isP.multi_process_queue()\n",
    "    "
   ]
  },
  {
   "cell_type": "code",
   "execution_count": 4,
   "id": "f87f68e7-8f9f-46bf-8d1f-2dedaeb116bf",
   "metadata": {},
   "outputs": [
    {
     "data": {
      "text/plain": [
       "95"
      ]
     },
     "execution_count": 4,
     "metadata": {},
     "output_type": "execute_result"
    }
   ],
   "source": []
  },
  {
   "cell_type": "code",
   "execution_count": null,
   "id": "281cd149-cef0-4b1f-80ed-b78e406ae463",
   "metadata": {},
   "outputs": [],
   "source": []
  }
 ],
 "metadata": {
  "kernelspec": {
   "display_name": "Python 3 (ipykernel)",
   "language": "python",
   "name": "python3"
  },
  "language_info": {
   "codemirror_mode": {
    "name": "ipython",
    "version": 3
   },
   "file_extension": ".py",
   "mimetype": "text/x-python",
   "name": "python",
   "nbconvert_exporter": "python",
   "pygments_lexer": "ipython3",
   "version": "3.11.5"
  }
 },
 "nbformat": 4,
 "nbformat_minor": 5
}
