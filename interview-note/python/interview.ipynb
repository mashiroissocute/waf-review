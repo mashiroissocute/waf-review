{
 "cells": [
  {
   "cell_type": "raw",
   "id": "099eaaff-abae-4f14-af77-08e2a95bf90e",
   "metadata": {},
   "source": [
    "1.单例模式"
   ]
  },
  {
   "cell_type": "code",
   "execution_count": 4,
   "id": "a774f8af-6657-48af-a599-8966bbf5f57b",
   "metadata": {},
   "outputs": [
    {
     "name": "stdout",
     "output_type": "stream",
     "text": [
      "True\n"
     ]
    }
   ],
   "source": [
    "\n",
    "def singleton(cls):\n",
    "    \"\"\"单例类装饰器\"\"\"\n",
    "    instances = {}\n",
    "\n",
    "    def wrapper(*args, **kwargs):\n",
    "        if cls not in instances:\n",
    "            instances[cls] = cls(*args, **kwargs)\n",
    "        return instances[cls]\n",
    "\n",
    "    return wrapper\n",
    "\n",
    "\n",
    "@singleton\n",
    "class President:\n",
    "    pass\n",
    "\n",
    "\n",
    "p1 = President()\n",
    "p2 = President()\n",
    "\n",
    "print(p1 is p2)"
   ]
  },
  {
   "cell_type": "code",
   "execution_count": null,
   "id": "8d3fba20-9f93-4680-9c86-ebc7ed5a4426",
   "metadata": {},
   "outputs": [],
   "source": []
  }
 ],
 "metadata": {
  "kernelspec": {
   "display_name": "Python 3 (ipykernel)",
   "language": "python",
   "name": "python3"
  },
  "language_info": {
   "codemirror_mode": {
    "name": "ipython",
    "version": 3
   },
   "file_extension": ".py",
   "mimetype": "text/x-python",
   "name": "python",
   "nbconvert_exporter": "python",
   "pygments_lexer": "ipython3",
   "version": "3.11.5"
  }
 },
 "nbformat": 4,
 "nbformat_minor": 5
}
