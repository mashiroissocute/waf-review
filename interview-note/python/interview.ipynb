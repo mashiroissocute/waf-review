{
 "cells": [
  {
   "cell_type": "raw",
   "id": "099eaaff-abae-4f14-af77-08e2a95bf90e",
   "metadata": {},
   "source": [
    "1.单例模式"
   ]
  },
  {
   "cell_type": "code",
   "execution_count": 4,
   "id": "a774f8af-6657-48af-a599-8966bbf5f57b",
   "metadata": {},
   "outputs": [
    {
     "name": "stdout",
     "output_type": "stream",
     "text": [
      "True\n"
     ]
    }
   ],
   "source": [
    "\n",
    "def singleton(cls):\n",
    "    \"\"\"单例类装饰器\"\"\"\n",
    "    instances = {}\n",
    "\n",
    "    def wrapper(*args, **kwargs):\n",
    "        if cls not in instances:\n",
    "            instances[cls] = cls(*args, **kwargs)\n",
    "        return instances[cls]\n",
    "\n",
    "    return wrapper\n",
    "\n",
    "\n",
    "@singleton\n",
    "class President:\n",
    "    pass\n",
    "\n",
    "\n",
    "p1 = President()\n",
    "p2 = President()\n",
    "\n",
    "print(p1 is p2)"
   ]
  },
  {
   "cell_type": "raw",
   "id": "37629a91-e479-4612-8b83-a23b85a96c04",
   "metadata": {},
   "source": [
    "2.不使用中间变量交换ab"
   ]
  },
  {
   "cell_type": "code",
   "execution_count": 3,
   "id": "f490dff1-4df7-4627-b4c6-946b513d43bf",
   "metadata": {},
   "outputs": [
    {
     "name": "stdout",
     "output_type": "stream",
     "text": [
      "[2] [1]\n"
     ]
    }
   ],
   "source": [
    "a = [1]\n",
    "b = [2]\n",
    "a,b = b,a\n",
    "print(a,b)"
   ]
  },
  {
   "cell_type": "raw",
   "id": "80ee88d5-774b-4edc-96aa-c75f3a82cfc4",
   "metadata": {},
   "source": [
    "3.写一个删除列表中重复元素的函数，要求去重后元素相对位置保持不变。"
   ]
  },
  {
   "cell_type": "code",
   "execution_count": 6,
   "id": "9a459cc4-2609-4ca8-b083-0934bcd517aa",
   "metadata": {},
   "outputs": [
    {
     "name": "stdout",
     "output_type": "stream",
     "text": [
      "[1, 2, 3, 4]\n",
      "[1, 2, 3, 4]\n"
     ]
    }
   ],
   "source": [
    "l1 = [1,1,2,2,3,4]\n",
    "l2 = []\n",
    "\n",
    "for item in l1:\n",
    "    if item not in l2:\n",
    "        l2.append(item)\n",
    "print(l2)\n",
    "\n",
    "\n",
    "\n",
    "l1 = [1,1,2,2,3,4]\n",
    "l2 = []\n",
    "s1 = set()\n",
    "for item in l1:\n",
    "    if item not in s1: # 使用set高效去重\n",
    "        l2.append(item)\n",
    "        s1.add(item)\n",
    "print(l2)"
   ]
  },
  {
   "cell_type": "code",
   "execution_count": null,
   "id": "831f29e3-5308-4ac7-bfcb-6c708b995c09",
   "metadata": {},
   "outputs": [],
   "source": [
    "# set的用法\n",
    "\n",
    "## 创建空set\n",
    "s1 = set()\n",
    "\n",
    "s1.add(1)\n",
    "s1.remove(1)\n",
    "s1.add(2)\n",
    "\n",
    "s2 = {1,2,3}\n",
    "\n",
    "s = s1.union(s2)\n",
    "print(s)\n",
    "\n",
    "s = s1.intersection(s2)\n",
    "print(s)\n",
    "\n",
    "\n",
    "s1.clear()\n",
    "\n",
    "s3 = s1.copy\n",
    "print(s3 is s1)\n",
    "\n",
    "\n",
    "print(1 not in s1)\n",
    "print(1 in s2)"
   ]
  },
  {
   "cell_type": "code",
   "execution_count": null,
   "id": "1eb918b2-e1ed-42df-aa93-a3e906bb743d",
   "metadata": {},
   "outputs": [],
   "source": [
    "4.cpython smallint会缓存，bigint不确定，同个函数块相同值指向同一个对象"
   ]
  },
  {
   "cell_type": "code",
   "execution_count": 7,
   "id": "105c746c-997e-44cc-a132-f287bbd804e6",
   "metadata": {},
   "outputs": [
    {
     "name": "stdout",
     "output_type": "stream",
     "text": [
      "True True\n",
      "True False\n",
      "True\n"
     ]
    }
   ],
   "source": [
    "a, b, c, d = 1, 1, 1000, 1000\n",
    "print(a is b, c is d)\n",
    "\n",
    "def foo():\n",
    "    e = 1000\n",
    "    f = 1000\n",
    "    print(e is f, e is d)\n",
    "    g = 1\n",
    "    print(g is a)\n",
    "\n",
    "foo()"
   ]
  },
  {
   "cell_type": "raw",
   "id": "b3f607f3-3636-452e-9d41-281c2819e12a",
   "metadata": {},
   "source": [
    "5.Lambda函数是什么，举例说明的它的应用场景。\n",
    "\n",
    "lambda函数主要用于匿名函数，比如使用一次之后就不再使用的临时函数，就不需要通过def去定义这个函数，维持了代码的简洁性。lambda函数可以用于函数的参数，用在列表里面。\n",
    "\n",
    "可以与reduce、map、filter搭配使用,简洁"
   ]
  },
  {
   "cell_type": "code",
   "execution_count": 24,
   "id": "517abb8f-663f-4701-bc41-f4137fb9241f",
   "metadata": {},
   "outputs": [
    {
     "name": "stdout",
     "output_type": "stream",
     "text": [
      "[0, 1, 16, 81, 256, 625, 1296, 2401, 4096, 6561]\n",
      "[0, 4, 16, 36, 64]\n",
      "285\n"
     ]
    }
   ],
   "source": [
    "from functools import reduce\n",
    "\n",
    "l = list([(lambda x :x*x)(x) for x in range(0,10)])\n",
    "\n",
    "m = list(map(lambda x:x*x,l))\n",
    "f = list(filter(lambda x:x%2==0,l))\n",
    "r = reduce(lambda x,y:x+y,l)\n",
    "\n",
    "\n",
    "print(s)\n",
    "print(f)\n",
    "print(r)\n"
   ]
  },
  {
   "cell_type": "raw",
   "id": "c5341c9a-9c33-4757-ad65-98ef97edbaea",
   "metadata": {},
   "source": [
    "6.说说Python中的浅拷贝和深拷贝。\n",
    "\n",
    "浅拷贝，新建变量，指向被拷贝变量指向的对象。修改变量时，对象可变的时候，新旧变量都会受到影响，对象不可变的时候，因为重新指向变量只影响其中一个。\n",
    "深拷贝，新建变量，指向新的对象，这些对象是被拷贝变量指向对象的复制。两个变量的修改互补影响。\n",
    "\n",
    "浅拷贝方法 copy.copy 深拷贝方法 copy.deepcopy"
   ]
  },
  {
   "cell_type": "raw",
   "id": "29b1fc07-795e-434c-a6a6-83313353e754",
   "metadata": {},
   "source": [
    "7.Python是如何实现内存管理的？\n",
    "\n",
    "以CPython解释器为例\n",
    "引用计数法 \n",
    "\n",
    "循环引用（分代和标记清除）\n",
    "\n",
    "标记清除：解决循环引用问题。首先遍历链表A中的节点，并且将当前对象所引用的所有对象的gc_ref减1，这一步主要作用是解除循环引用对引用计数的影响。再次遍历链表A中的节点，如果节点的gc_ref值为0，那么这个对象就被标记为“暂时不可达”（GC_TENTATIVELY_UNREACHABLE）并被移动到链表B中；如果节点的gc_ref不为0，那么这个对象就会被标记为“可达“（GC_REACHABLE），对于”可达“对象，还要递归的将该节点可以到达的节点标记为”可达“；链表B中被标记为”可达“的节点要重新放回到链表A中。在两次遍历之后，链表B中的节点就是需要释放内存的节点。\n",
    "\n",
    "分代：减轻stw。分代回收扫描的门限值可以通过gc模块的get_threshold函数来获得，该函数返回一个三元组，分别表示多少次内存分配操作后会执行0代垃圾回收，多少次0代垃圾回收后会执行1代垃圾回收，多少次1代垃圾回收后会执行2代垃圾回收。需要说明的是，如果执行一次2代垃圾回收，那么比它年轻的代都要执行垃圾回收。如果想修改这几个门限值，可以通过gc模块的set_threshold函数来做到。\n"
   ]
  },
  {
   "cell_type": "code",
   "execution_count": null,
   "id": "912dffb9-0015-485e-b998-338efacb8912",
   "metadata": {},
   "outputs": [],
   "source": [
    "8.生成器和迭代器\n",
    "\n",
    "实现了iter()和next()方法的容器是可迭代的，通过next不断取得容器中的下一个数据，因为容器实现的方式不同，所以next出来的数据并不保证顺序。\n",
    "for x in iterable_obj 就是通过迭代器不断获取值的\n",
    "\n",
    "生成器可以通过yield生成下一个数据，通过next获取这个数据。生成器是一个数据一个数据生成的，所以在计算大量数据的时候，是不会占用太多内存的。\n",
    "生成器还可以用于生成函数\n",
    "\n"
   ]
  },
  {
   "cell_type": "code",
   "execution_count": 35,
   "id": "0a6be49b-2e56-4a7e-ad82-f1b3c9b3a5cc",
   "metadata": {},
   "outputs": [
    {
     "name": "stdout",
     "output_type": "stream",
     "text": [
      "0\n",
      "1\n",
      "2\n",
      "3\n",
      "0\n",
      "100\n",
      "200\n",
      "300\n"
     ]
    }
   ],
   "source": [
    "def gen_num():\n",
    "    for i in range(4):\n",
    "        yield i\n",
    "\n",
    "\n",
    "for i in gen_num():\n",
    "    print(i)\n",
    "\n",
    "\n",
    "# 生成函数\n",
    "def gen_func():\n",
    "    for i in range(4):\n",
    "        yield lambda x: x * i\n",
    "\n",
    "for f in gen_func():\n",
    "    print(f(100))\n",
    "\n",
    "\n",
    "\n"
   ]
  },
  {
   "cell_type": "raw",
   "id": "9b99e2af-157b-48ea-b556-280b34840037",
   "metadata": {},
   "source": [
    "9.python中为什么没有函数重载？\n",
    "\n",
    "c++函数重载主要在编译时确定使用那个函数，python的动态语言，没有编译过程，只会在执行过程中确定状态。所以没有重载。想要实现重载的功能，1.参数可以动态类型 2.变长参数/默认值"
   ]
  },
  {
   "cell_type": "code",
   "execution_count": 36,
   "id": "112d57fd-1048-41d6-8a14-66640bd28ee7",
   "metadata": {},
   "outputs": [
    {
     "name": "stdout",
     "output_type": "stream",
     "text": [
      "1 2 ()\n",
      "1 3 ()\n",
      "1 3 (3, 3, 3, 3, 3)\n",
      "1 2 (3, 4, 5)\n",
      "1 2 (3, 4, 5)\n"
     ]
    }
   ],
   "source": [
    "def test2(num, num2=2, *args):\n",
    "    print(num, num2, args)\n",
    "\n",
    "test2(1)\n",
    "test2(1, 3)\n",
    "test2(1, 3, 3, 3, 3, 3, 3)"
   ]
  },
  {
   "cell_type": "raw",
   "id": "1f244fe0-dcb0-4286-8976-4ff09e463b0c",
   "metadata": {},
   "source": [
    "10.现有2元、3元、5元共三种面额的货币，如果需要找零99元，一共有多少种找零的方式？"
   ]
  },
  {
   "cell_type": "code",
   "execution_count": 48,
   "id": "03455faa-72a4-4919-a2d7-bd9c374cad21",
   "metadata": {},
   "outputs": [
    {
     "name": "stdout",
     "output_type": "stream",
     "text": [
      "2\n",
      "2\n"
     ]
    }
   ],
   "source": [
    "def find_change(n):\n",
    "    dp = [0 for i in range(0,10)]\n",
    "    dp[0] = 1\n",
    "    dp[1] = 0\n",
    "    dp[2] = 1\n",
    "    dp[3] = 1\n",
    "    dp[4] = 1\n",
    "    dp[5] = 2\n",
    "    \n",
    "    for i in range(6,n+1):\n",
    "        dp[i] = dp[i-2] + dp[i-3] + dp[i-5]\n",
    "\n",
    "    return dp[n]\n",
    "\n",
    "\n",
    "print(find_change(6))\n",
    "\n",
    "\n",
    "from functools import lru_cache\n",
    "\n",
    "@lru_cache()\n",
    "def change_money(total):\n",
    "    if total == 0:\n",
    "        return 1\n",
    "    if total < 0:\n",
    "        return 0\n",
    "    return change_money(total - 2) + change_money(total - 3) + \\\n",
    "        change_money(total - 5)\n",
    "\n",
    "\n",
    "\n",
    "print(change_money(6))\n",
    "\n",
    "    "
   ]
  },
  {
   "cell_type": "raw",
   "id": "719dba7d-194e-4b05-b3ac-e6cc7a68877f",
   "metadata": {},
   "source": [
    "11. \n",
    "__init__和__new__方法有什么区别？\n",
    "\n",
    "__new__用于生成对象分配对象内存，__init__用于初始化对象赋值\n",
    "\n",
    "先调用new再调用init，init第一个参数self就是new生成的对象本身"
   ]
  },
  {
   "cell_type": "raw",
   "id": "c99a0061-3b3f-43c6-9fd6-cdc6320f4566",
   "metadata": {},
   "source": [
    "12.写一个函数实现对逆波兰表达式求值，不能使用Python的内置函数。"
   ]
  },
  {
   "cell_type": "code",
   "execution_count": null,
   "id": "de8978f8-fdf2-497f-b9fc-d4c7aa51456d",
   "metadata": {},
   "outputs": [],
   "source": [
    "class Stack:\n",
    "    def __init__(self)\n",
    "        self.items = []\n",
    "    def push(self,v):\n",
    "        self.items.append(v)\n",
    "    def pop(self):\n",
    "        return self.items.pop()    "
   ]
  },
  {
   "cell_type": "raw",
   "id": "8ad6fead-f34d-4a2c-8b8c-b85a576964d2",
   "metadata": {},
   "source": [
    "13.property的作用"
   ]
  },
  {
   "cell_type": "code",
   "execution_count": 51,
   "id": "ccaf42ea-fd70-46e3-bef5-3860aabe0c90",
   "metadata": {},
   "outputs": [
    {
     "name": "stdout",
     "output_type": "stream",
     "text": [
      "1\n",
      "2\n"
     ]
    }
   ],
   "source": [
    "class A: \n",
    "    def __init__(self, value):\n",
    "        self.__value = value\n",
    "\n",
    "    @property\n",
    "    def value(self):\n",
    "        return self.__value\n",
    "\n",
    "obj = A(1)\n",
    "obj.__value = 2\n",
    "print(obj.value)\n",
    "print(obj.__value)"
   ]
  },
  {
   "cell_type": "raw",
   "id": "3cb11070-4655-4e67-9e3b-600d733ec96e",
   "metadata": {},
   "source": [
    "14.鸭子类型： 动态语言编程类型，意味着你不需要在代码中显式地指定变量的数据类型，而是通过检查对象是否具有特定的方法和属性来判断它是否满足某个类的要求。"
   ]
  },
  {
   "cell_type": "code",
   "execution_count": 58,
   "id": "6a48d918-7504-4b92-8d4d-f56cec06f508",
   "metadata": {},
   "outputs": [
    {
     "name": "stdout",
     "output_type": "stream",
     "text": [
      "7.552919472115517\n",
      "12.40973294344807\n"
     ]
    }
   ],
   "source": []
  },
  {
   "cell_type": "code",
   "execution_count": null,
   "id": "1830310f-0ccc-40f8-9f8e-e19fc65538d9",
   "metadata": {},
   "outputs": [],
   "source": []
  }
 ],
 "metadata": {
  "kernelspec": {
   "display_name": "Python 3 (ipykernel)",
   "language": "python",
   "name": "python3"
  },
  "language_info": {
   "codemirror_mode": {
    "name": "ipython",
    "version": 3
   },
   "file_extension": ".py",
   "mimetype": "text/x-python",
   "name": "python",
   "nbconvert_exporter": "python",
   "pygments_lexer": "ipython3",
   "version": "3.11.5"
  }
 },
 "nbformat": 4,
 "nbformat_minor": 5
}
