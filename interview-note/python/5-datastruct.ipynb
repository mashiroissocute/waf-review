{
 "cells": [
  {
   "cell_type": "raw",
   "id": "018dfcee-3058-4e7f-a78e-835a89a06ffb",
   "metadata": {},
   "source": [
    "dequeue"
   ]
  },
  {
   "cell_type": "raw",
   "id": "27161551-d3cc-4634-8483-cedbecc2b2a1",
   "metadata": {},
   "source": [
    "queue和deque都是Python中用于存储和操作序列的数据结构，但它们之间存在一些关键区别：\n",
    "\n",
    "用途：\n",
    "\n",
    "queue.Queue主要用于实现线程安全的队列，特别适用于多线程编程中的生产者-消费者模式。它提供了put()和get()等方法来实现元素的入队和出队操作。\n",
    "collections.deque（双端队列）是一个更通用的数据结构，可以在两端高效地添加和删除元素。它不仅可以用作队列，还可以用作栈或其他需要双端操作的场景。\n",
    "线程安全性：\n",
    "\n",
    "queue.Queue是线程安全的，其内部实现了锁机制，以确保在多线程环境下的正确操作。\n",
    "collections.deque不是线程安全的。如果在多线程环境中使用deque，需要自行实现同步机制，如使用threading.Lock。\n",
    "性能：\n",
    "\n",
    "queue.Queue由于实现了线程安全机制，可能在某些情况下比deque稍慢。\n",
    "deque在单线程环境中通常具有更好的性能，因为它不需要额外的同步开销。\n",
    "功能：\n",
    "\n",
    "queue.Queue提供了基本的队列操作，如put()、get()、qsize()等。\n",
    "deque提供了更丰富的操作，如append()、appendleft()、pop()、popleft()等，可以在两端高效地添加和删除元素。\n",
    "可变性：\n",
    "\n",
    "两者都是可变的，可以在运行时动态地添加和删除元素。\n",
    "总之，queue.Queue和deque各有其特点和适用场景。如果你需要在多线程环境中使用队列，建议使用queue.Queue；如果你需要在单线程环境中高效地操作序列的两端，可以考虑使用deque。"
   ]
  },
  {
   "cell_type": "raw",
   "id": "338fee0f-39bb-4c62-8388-0895cc2d30ba",
   "metadata": {},
   "source": [
    "python 线程安全的数据结构：Queue Lock 等 "
   ]
  },
  {
   "cell_type": "code",
   "execution_count": null,
   "id": "e04b031a-8b44-4043-9cfd-684cd18893d2",
   "metadata": {},
   "outputs": [],
   "source": [
    "from queue import Queue\n",
    "\n",
    "q = Queue()\n",
    "q.put(1)  # 向队列中添加元素\n",
    "q.put(2)  # 向队列中添加元素\n",
    "\n",
    "item = q.get()  # 从队列中获取元素\n",
    "print(item)"
   ]
  },
  {
   "cell_type": "raw",
   "id": "8dd6dca7-3530-44a9-b59f-0c1a11db2354",
   "metadata": {},
   "source": [
    "使用userdict自定义一个线程安全的dict"
   ]
  },
  {
   "cell_type": "code",
   "execution_count": null,
   "id": "798a43cb-0b5a-4cac-b572-1509fe7f9f39",
   "metadata": {},
   "outputs": [],
   "source": [
    "import threading\n",
    "from collections import UserDict\n",
    "\n",
    "class ThreadSafeDict(UserDict):\n",
    "    def __init__(self, *args, **kwargs):\n",
    "        super().__init__(*args, **kwargs)\n",
    "        self.lock = threading.Lock()\n",
    "\n",
    "    def __getitem__(self, key):\n",
    "        with self.lock:\n",
    "            return super().__getitem__(key)\n",
    "\n",
    "    def __setitem__(self, key, value):\n",
    "        with self.lock:\n",
    "            return super().__setitem__(key, value)\n",
    "\n",
    "    def __delitem__(self, key):\n",
    "        with self.lock:\n",
    "            return super().__delitem__(key)\n",
    "\n",
    "    def __contains__(self, key):\n",
    "        with self.lock:\n",
    "            return super().__contains__(key)\n",
    "\n",
    "    def get(self, key, default=None):\n",
    "        with self.lock:\n",
    "            return super().get(key, default)\n",
    "\n",
    "    # 其他需要线程安全的方法..."
   ]
  },
  {
   "cell_type": "raw",
   "id": "39d24cd3-1a97-4dac-bcef-e8469ce065ea",
   "metadata": {},
   "source": [
    "给定有向图判断有无环并遍历"
   ]
  },
  {
   "cell_type": "code",
   "execution_count": 5,
   "id": "6e5decd9-19ec-48ef-8f66-c65e2180d8d0",
   "metadata": {},
   "outputs": [
    {
     "name": "stdout",
     "output_type": "stream",
     "text": [
      "有向图不存在环\n",
      "深度优先遍历：\n",
      "A B D E C "
     ]
    }
   ],
   "source": [
    "def has_cycle(graph, node, visited, rec_stack):\n",
    "    visited.add(node)\n",
    "    rec_stack.add(node)\n",
    "\n",
    "    for neighbor in graph[node]:\n",
    "        if neighbor not in visited:\n",
    "            if has_cycle(graph, neighbor, visited, rec_stack):\n",
    "                return True\n",
    "        elif neighbor in rec_stack:\n",
    "            return True\n",
    "\n",
    "    rec_stack.remove(node)\n",
    "    return False\n",
    "\n",
    "def dfs(graph, node, visited):\n",
    "    visited.add(node)\n",
    "    print(node, end=' ')\n",
    "\n",
    "    for neighbor in graph[node]:\n",
    "        if neighbor not in visited:\n",
    "            dfs(graph, neighbor, visited)\n",
    "\n",
    "def main():\n",
    "    graph = {\n",
    "        'A': ['B', 'C'],\n",
    "        'B': ['D'],\n",
    "        'C': ['D'],\n",
    "        'D': ['E'],\n",
    "        'E': []\n",
    "    }\n",
    "\n",
    "    visited = set()\n",
    "    rec_stack = set()\n",
    "\n",
    "    has_cycle_flag = False\n",
    "    for node in graph:\n",
    "        if node not in visited:\n",
    "            if has_cycle(graph, node, visited, rec_stack):\n",
    "                has_cycle_flag = True\n",
    "                break\n",
    "\n",
    "    if has_cycle_flag:\n",
    "        print(\"有向图存在环\")\n",
    "    else:\n",
    "        print(\"有向图不存在环\")\n",
    "\n",
    "    print(\"深度优先遍历：\")\n",
    "    visited = set()\n",
    "    for node in graph:\n",
    "        if node not in visited:\n",
    "            dfs(graph, node, visited)\n",
    "\n",
    "if __name__ == \"__main__\":\n",
    "    main()"
   ]
  },
  {
   "cell_type": "code",
   "execution_count": null,
   "id": "4d592ecf-9e15-4b1c-b886-87ffe127ce2f",
   "metadata": {},
   "outputs": [],
   "source": []
  }
 ],
 "metadata": {
  "kernelspec": {
   "display_name": "Python 3 (ipykernel)",
   "language": "python",
   "name": "python3"
  },
  "language_info": {
   "codemirror_mode": {
    "name": "ipython",
    "version": 3
   },
   "file_extension": ".py",
   "mimetype": "text/x-python",
   "name": "python",
   "nbconvert_exporter": "python",
   "pygments_lexer": "ipython3",
   "version": "3.11.5"
  }
 },
 "nbformat": 4,
 "nbformat_minor": 5
}
