{
 "cells": [
  {
   "cell_type": "raw",
   "id": "5a0d5f40-4171-4c82-a0b0-7a70d391d7c2",
   "metadata": {},
   "source": [
    "列表和元组\n",
    "\n",
    "列表和元组都是可以放置任意类型的有序组合。\n",
    "\n",
    "列表是动态的，长度大小不固定，可以随意地增加、删减或者改变元素（mutable）。但是列表内的元祖是不可改变的。\n",
    "而元组是静态的，长度大小固定，无法增加删减或者改变（immutable）。但是元祖内的列表是可以改变的。\n",
    "\n",
    "\n",
    "列表存储空间大于元组，性能比元祖差。在访问静态数据时，使用元祖。访问动态数据时，使用列表。\n",
    "\n",
    "列表还可以用for循环赋值"
   ]
  },
  {
   "cell_type": "code",
   "execution_count": 71,
   "id": "242c2ff6-78aa-4134-a018-d1a166804425",
   "metadata": {},
   "outputs": [
    {
     "name": "stdout",
     "output_type": "stream",
     "text": [
      "[1, 2, 'hello', ['anotherlist']]\n",
      "[0, 1, 2, 3, 4, 5, 6, 7, 8, 9]\n"
     ]
    }
   ],
   "source": [
    "l : list = [1,2,\"hello\",[\"anotherlist\"]]\n",
    "print(l)\n",
    "\n",
    "lf = [x for x in range(0,10)]\n",
    "print(lf)"
   ]
  },
  {
   "cell_type": "code",
   "execution_count": 72,
   "id": "893201e8-2171-419d-bf00-59742b40e45e",
   "metadata": {},
   "outputs": [
    {
     "name": "stdout",
     "output_type": "stream",
     "text": [
      "(1, 2, 'hello', 'anothertuple')\n"
     ]
    }
   ],
   "source": [
    "t : tuple = (1,2,\"hello\",(\"anothertuple\"))\n",
    "print(t)"
   ]
  },
  {
   "cell_type": "code",
   "execution_count": 4,
   "id": "26b6357f-8c79-4526-9915-e7a82ed05ceb",
   "metadata": {},
   "outputs": [
    {
     "name": "stdout",
     "output_type": "stream",
     "text": [
      "[1, 2, 'hello', 'anothertuple']\n"
     ]
    }
   ],
   "source": [
    "tl = list(t)\n",
    "print(tl)"
   ]
  },
  {
   "cell_type": "code",
   "execution_count": 16,
   "id": "b477e01b-cb8f-4d90-aa23-f03790c07b83",
   "metadata": {},
   "outputs": [
    {
     "name": "stdout",
     "output_type": "stream",
     "text": [
      "1\n",
      "2\n",
      "hello\n",
      "['anotherlist']\n",
      "1\n",
      "2\n",
      "hello\n",
      "anothertuple\n"
     ]
    }
   ],
   "source": [
    "for val in l:\n",
    "    print(val)\n",
    "for val in t:\n",
    "    print(val)"
   ]
  },
  {
   "cell_type": "code",
   "execution_count": 25,
   "id": "6d0b17dd-b49b-43f2-9546-2376ce55f6bf",
   "metadata": {},
   "outputs": [
    {
     "name": "stdout",
     "output_type": "stream",
     "text": [
      "[1, 2, 3]\n",
      "[1, 2, 3]\n"
     ]
    }
   ],
   "source": [
    "print(sorted([3,2,1]))\n",
    "print(sorted((3,2,1)))"
   ]
  },
  {
   "cell_type": "raw",
   "id": "45517044-cd89-4e9e-94e4-065052044e1b",
   "metadata": {},
   "source": [
    "字典和集合\n",
    "\n",
    "字典和集合都基于hash表实现，区别在于字典多了一个value。\n",
    "\n",
    "字典和集合都可以存放任意类型数据。但是字典和集合的key必须是不可变值，因此不可能是list。\n",
    "\n",
    "空的花括号 {} 会创建一个空的字典对象而不是set，因此要创建一个空的set，应该使用 set() 函数。\n"
   ]
  },
  {
   "cell_type": "code",
   "execution_count": 13,
   "id": "24fa5f9d-ca2e-472c-86f7-037cbd4c0083",
   "metadata": {},
   "outputs": [
    {
     "name": "stdout",
     "output_type": "stream",
     "text": [
      "{1: 'a', 'a': 1}\n"
     ]
    }
   ],
   "source": [
    "m : dict = {1:\"a\",\"a\":1}\n",
    "print(m)"
   ]
  },
  {
   "cell_type": "code",
   "execution_count": 19,
   "id": "df096bb8-64f8-4969-af7f-93b1fccce13d",
   "metadata": {},
   "outputs": [
    {
     "name": "stdout",
     "output_type": "stream",
     "text": [
      "key:1, value:a\n",
      "key:a, value:1\n"
     ]
    }
   ],
   "source": [
    "for key,value in m.items() :  #遍历map有items\n",
    "    print(f'key:{key}, value:{value}')"
   ]
  },
  {
   "cell_type": "code",
   "execution_count": 14,
   "id": "f8dedb8c-7b1d-4d9c-996a-ba85efcb8ec6",
   "metadata": {},
   "outputs": [
    {
     "name": "stdout",
     "output_type": "stream",
     "text": [
      "{1, 2, 'hello'}\n"
     ]
    }
   ],
   "source": [
    "s : set = {1,2,\"hello\"}\n",
    "print(s)"
   ]
  },
  {
   "cell_type": "code",
   "execution_count": 18,
   "id": "4305db8d-b559-49b4-8056-6c4ee2ecf6dc",
   "metadata": {},
   "outputs": [
    {
     "name": "stdout",
     "output_type": "stream",
     "text": [
      "1\n",
      "2\n",
      "hello\n"
     ]
    }
   ],
   "source": [
    "for key in s:\n",
    "    print(key)"
   ]
  },
  {
   "cell_type": "code",
   "execution_count": 31,
   "id": "aeb1fb3a-1dc6-4229-a2e8-ec76f7f7ebe4",
   "metadata": {},
   "outputs": [
    {
     "name": "stdout",
     "output_type": "stream",
     "text": [
      "[(1, 1), (2, 2), (3, 3)]\n",
      "[1, 2, 3]\n"
     ]
    }
   ],
   "source": [
    "print(sorted({3:3,2:2,1:1}.items(),key = lambda kv : kv[0] ))\n",
    "print(sorted({3,2,1}))"
   ]
  },
  {
   "cell_type": "raw",
   "id": "2a9daa54-d50d-401e-a4b4-ff0e87850aac",
   "metadata": {},
   "source": [
    "字符串 \n",
    "\n",
    "字符串可以是 ' \" \"\"\" 可以方便的内嵌\n",
    "\n",
    "字符串可以遍历，是不可变类型"
   ]
  },
  {
   "cell_type": "code",
   "execution_count": 22,
   "id": "1571205c-b2fe-45f1-81ea-db09a272371a",
   "metadata": {},
   "outputs": [
    {
     "name": "stdout",
     "output_type": "stream",
     "text": [
      "hello hello hello hello \"lucas\"\n"
     ]
    }
   ],
   "source": [
    "s : str = 'hello'\n",
    "s_1 : str = \"hello\"\n",
    "s_2 : str = \"\"\"hello\"\"\"\n",
    "s_3 : str = 'hello \"lucas\"'\n",
    "print(s,s_1,s_2,s_3)"
   ]
  },
  {
   "cell_type": "code",
   "execution_count": 33,
   "id": "edd74420-f7f4-4a5e-825a-2574af2f031e",
   "metadata": {},
   "outputs": [
    {
     "name": "stdout",
     "output_type": "stream",
     "text": [
      "{\"1\": \"a\", \"a\": 1}\n",
      "{'1': 'a', 'a': 1}\n"
     ]
    }
   ],
   "source": [
    "import json\n",
    "ms = json.dumps(m)\n",
    "sm = json.loads(ms)\n",
    "print(ms)\n",
    "print(sm)"
   ]
  },
  {
   "cell_type": "raw",
   "id": "77515831-d0a3-470b-b52e-008755b38b21",
   "metadata": {},
   "source": [
    "循环，只要是iterable对象，都可以通过for in遍历，dict的items是iterable对象。\n",
    "对于list等具有索引的对象还可以用for idx in range([0:len(l)]) , for idx,val in enumerate(l)遍历"
   ]
  },
  {
   "cell_type": "code",
   "execution_count": 39,
   "id": "a070a8bf-e896-4d58-a83e-2d87e76f23d7",
   "metadata": {},
   "outputs": [
    {
     "name": "stdout",
     "output_type": "stream",
     "text": [
      "1\n",
      "2\n",
      "hello\n",
      "['anotherlist']\n",
      "1\n",
      "2\n",
      "hello\n",
      "['anotherlist']\n",
      "0 1\n",
      "1 2\n",
      "2 hello\n",
      "3 ['anotherlist']\n"
     ]
    }
   ],
   "source": [
    "for v in l:\n",
    "    print(v)\n",
    "for idx in range(0,len(l)):\n",
    "    print(l[idx])\n",
    "for idx,val in enumerate(l):\n",
    "    print(idx,val)"
   ]
  },
  {
   "cell_type": "raw",
   "id": "929387a3-43e1-497d-a587-92f1df4abb87",
   "metadata": {},
   "source": [
    "异常处理， try except finally\n",
    "\n",
    "try 到 except中间的代码存在执行异常时，会匹配except中的error进行异常处理。finally一定会执行，及时try或except return了"
   ]
  },
  {
   "cell_type": "code",
   "execution_count": 44,
   "id": "8f707535-a5cb-4dd8-be88-c7c635106b8e",
   "metadata": {},
   "outputs": [
    {
     "name": "stdout",
     "output_type": "stream",
     "text": [
      "division by zero\n",
      "1\n"
     ]
    }
   ],
   "source": [
    "try:\n",
    "    a : int = 1\n",
    "    b :int = a/0\n",
    "except ZeroDivisionError as err:\n",
    "    print(err)\n",
    "except ValueError as err:\n",
    "    print(err)\n",
    "except:\n",
    "    print(\"other err\")\n",
    "finally:\n",
    "    print(a)\n"
   ]
  },
  {
   "cell_type": "raw",
   "id": "5b4aa0dc-8c77-4e90-ba81-6cb083dd05b6",
   "metadata": {},
   "source": [
    "函数 \n",
    "\n",
    "函数参数可以不设置类型，在函数内部处理逻辑的时候发现错误才会暴露。\n",
    "函数参数可以设置默认值。\n",
    "\n",
    "函数内部修改全局变量需要用global。\n",
    "\n",
    "函数嵌套时，内部函数修改外部函数变量需要用nonlocal.\n",
    "\n",
    "闭包可以简化程序复杂度，闭包与嵌套的区别在于闭包必须返回函数。\n",
    "\n",
    "函数参数的传递使用的是“传对象引用”（既不是值传递也不是引用传递而是传对象引用）的方式（在lift中有详细解释）。这意味着当你将一个变量传递给一个函数时，实际上传递的是这个变量的引用（或者说内存地址），而不是它的值本身。根据参数类型，有以下两种情况：\n",
    "不可变类型（如：字符串、元组、整数）：\n",
    "当你向函数传递一个不可变类型的参数时，函数内部对该参数的任何修改都不会影响到原始变量。因为在 Python 中，不可变类型不允许被修改。\n",
    "\n",
    "可变类型（如：列表、字典、集合）：\n",
    "当你将可变类型的参数传递给函数时，函数内部对这些参数的修改会影响到原始变量。这是因为可变类型的对象允许被修改。"
   ]
  },
  {
   "cell_type": "code",
   "execution_count": 46,
   "id": "d1dab970-428d-46a0-8ae5-ca5a741795cf",
   "metadata": {},
   "outputs": [
    {
     "name": "stdout",
     "output_type": "stream",
     "text": [
      "[1, 2, 2, 3]\n",
      "3\n",
      "unsupported operand type(s) for +: 'int' and 'list'\n"
     ]
    }
   ],
   "source": [
    "def add(a,b):\n",
    "    return a+b\n",
    "try:\n",
    "    print(add([1,2],[2,3]))\n",
    "    print(add(1,2))\n",
    "    print(add(1,[1,2]))\n",
    "except TypeError as err:\n",
    "    print(err)\n",
    "\n",
    "\n",
    "\n",
    "    "
   ]
  },
  {
   "cell_type": "code",
   "execution_count": 49,
   "id": "9d14d721-a360-4c27-a64c-4ba9bc07f9e8",
   "metadata": {},
   "outputs": [
    {
     "name": "stdout",
     "output_type": "stream",
     "text": [
      "2\n"
     ]
    }
   ],
   "source": [
    "gv = 1\n",
    "def modifygv():\n",
    "    global gv \n",
    "    gv = 2 \n",
    "\n",
    "modifygv()\n",
    "print(gv)"
   ]
  },
  {
   "cell_type": "code",
   "execution_count": 52,
   "id": "84b3bfa3-8d04-42d0-970f-e75c0edb50b1",
   "metadata": {},
   "outputs": [
    {
     "name": "stdout",
     "output_type": "stream",
     "text": [
      "1\n",
      "2\n"
     ]
    }
   ],
   "source": [
    "def out(o):\n",
    "    print(o)\n",
    "    def inner():\n",
    "        nonlocal o\n",
    "        o = o + 1\n",
    "    inner()\n",
    "    print(o)\n",
    "\n",
    "out(1)\n",
    "    "
   ]
  },
  {
   "cell_type": "code",
   "execution_count": 54,
   "id": "da6c93d4-c674-43fc-9e75-2e510b5c587a",
   "metadata": {},
   "outputs": [
    {
     "name": "stdout",
     "output_type": "stream",
     "text": [
      "[1, 2, 3, 4]\n",
      "1\n"
     ]
    }
   ],
   "source": [
    "def change_list(lst):\n",
    "    lst.append(4)  # list dict set等可修改\n",
    "\n",
    "def change_int(num):\n",
    "    num = num+1  # num、string、tuple无法修改\n",
    "\n",
    "original_list = [1, 2, 3]\n",
    "change_list(original_list)\n",
    "print(original_list) \n",
    "\n",
    "original_num = 1\n",
    "change_int(original_num)\n",
    "print(original_num) "
   ]
  },
  {
   "cell_type": "raw",
   "id": "88ae98b4-252f-456f-848b-9b58b2fa91ee",
   "metadata": {},
   "source": [
    "lambda是匿名函数，也是表达式，表达式类似a+b是可以在列表和函数参数等地方使用的。\n",
    "(lambada x:x*x)(x) --> x函数参数 x*x函数逻辑\n",
    "匿名函数适用于仅当前使用一次的情况就不再需要定义def func。"
   ]
  },
  {
   "cell_type": "code",
   "execution_count": 1,
   "id": "d40c4d90-c2d2-43ad-9f91-97a0962f6637",
   "metadata": {},
   "outputs": [
    {
     "name": "stdout",
     "output_type": "stream",
     "text": [
      "[0, 1, 2, 3, 4, 5, 6, 7, 8, 9]\n",
      "[0, 1, 4, 9, 16, 25, 36, 49, 64, 81]\n",
      "[(3, 1), (2, 2), (1, 3)]\n"
     ]
    }
   ],
   "source": [
    "lf = [x for x in range(0,10)]\n",
    "print(lf)\n",
    "lf = [(lambda x:x*x)(x) for x in lf] #lambda用在列表中\n",
    "print(lf)\n",
    "\n",
    "mf = {1:3,2:2,3:1}\n",
    "mf = sorted(mf.items(),key=lambda x:x[1]) #lambda用在参数列表\n",
    "print(mf)"
   ]
  },
  {
   "cell_type": "raw",
   "id": "ba683db0-c3cd-4f37-88c6-1f64cea5e029",
   "metadata": {},
   "source": [
    "map filter reduce函数。\n",
    "map对可迭代对象的每个元素执行同样的方法\n",
    "filter对可迭代对象的每个元素执行同样的过滤\n",
    "reduce对可迭代对象进行聚合操作"
   ]
  },
  {
   "cell_type": "code",
   "execution_count": 73,
   "id": "5c6202fe-6c85-41e8-87a0-0e8eb07050fb",
   "metadata": {},
   "outputs": [
    {
     "name": "stdout",
     "output_type": "stream",
     "text": [
      "[0, 1, 4, 9, 16, 25, 36, 49, 64, 81]\n",
      "[0, 2, 4, 6, 8]\n",
      "45\n"
     ]
    }
   ],
   "source": [
    "from functools import reduce\n",
    "\n",
    "l = [x for x in range(0, 10)]\n",
    "\n",
    "print(list(map((lambda x: x * x), l)))\n",
    "print(list(filter((lambda x: x % 2 == 0), l)))\n",
    "print((reduce((lambda x, y: x + y), l)))"
   ]
  },
  {
   "cell_type": "raw",
   "id": "855426a7-47e1-47a0-be72-366e53b86a27",
   "metadata": {},
   "source": [
    "类\n",
    "__var 是私有变量，需要通过类函数访问，约定最好不能直接访问。\n",
    "初始化函数:初始化函数自动调用 def __init__(self,para...):\n",
    "类函数classmethod:可以用于构造类，工厂模式，修改类变量\n",
    "静态函数staticmethod:可以用于非实例化调用\n",
    "类变量:大写命名，可以非实例化调用。当我们需要在一个类的不同实例之间共享变量的时候使用类变量。\n",
    "成员变量:self.xxx = xxx\n",
    "\n",
    "抽象类 继承abc 不可实例化\n",
    "\n",
    "子类init不会自动调用父类init，需要显示调用 super.__init__()\n",
    "菱形继承问题是指当一个类通过多条路径继承自同一个基类时，可能会导致基类成员的重复。这种情况下，Python使用C3线性化算法来解决菱形继承问题。\n",
    "可以看到，尽管类D通过两条路径继承自类A，但super()函数确保了类A的__init__方法只被调用一次。这就是Python如何解决菱形继承问题的。"
   ]
  },
  {
   "cell_type": "raw",
   "id": "dc35ef95-2587-492c-a4d5-d210eaea20f2",
   "metadata": {},
   "source": [
    "组合和继承\n",
    "\n",
    "组合是指其他类作为自己类的成员，优先使用组合保持代码简洁。\n",
    "\n",
    "\n"
   ]
  },
  {
   "cell_type": "raw",
   "id": "a837ae6f-b9d4-4bcc-8b41-dce827c87004",
   "metadata": {},
   "source": [
    "try-catch-else-final\n",
    "\n",
    "使用try catch可以避免进程异常时，崩溃退出"
   ]
  },
  {
   "cell_type": "code",
   "execution_count": null,
   "id": "36e0546a-1220-4dfb-a089-9d07dbb8721a",
   "metadata": {},
   "outputs": [],
   "source": [
    "import requests\n",
    "from requests.exceptions import RequestException\n",
    "\n",
    "url = \"https://api.example.com/data\"\n",
    "\n",
    "try:\n",
    "    response = requests.get(url)\n",
    "    response.raise_for_status()  # 如果响应状态码不是 200，将抛出 HTTPError 异常\n",
    "except RequestException as e:\n",
    "    print(f\"请求失败，错误信息：{e}\")\n",
    "else:\n",
    "    print(\"请求成功\")\n",
    "    data = response.json()\n",
    "    print(data)"
   ]
  }
 ],
 "metadata": {
  "kernelspec": {
   "display_name": "Python 3 (ipykernel)",
   "language": "python",
   "name": "python3"
  },
  "language_info": {
   "codemirror_mode": {
    "name": "ipython",
    "version": 3
   },
   "file_extension": ".py",
   "mimetype": "text/x-python",
   "name": "python",
   "nbconvert_exporter": "python",
   "pygments_lexer": "ipython3",
   "version": "3.11.5"
  }
 },
 "nbformat": 4,
 "nbformat_minor": 5
}
