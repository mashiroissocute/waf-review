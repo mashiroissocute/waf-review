{
 "cells": [
  {
   "cell_type": "raw",
   "id": "b71db76e-0991-4cd5-a044-4f4cbcceb5c7",
   "metadata": {},
   "source": [
    "is和==\n",
    "is用于比较两个变量是否占用同一片内存，例如在单例模式下，通过is判断。\n",
    "==用于比较两个变量是否值相等，可以相当于__eq__函数，这个函数是可以被重载的，自定义等于逻辑。\n",
    "is不需要检查重载所以比==比较效率更高。\n"
   ]
  },
  {
   "cell_type": "code",
   "execution_count": 7,
   "id": "3ee824a1-6ee0-4c42-a97e-8992331fa6ee",
   "metadata": {},
   "outputs": [
    {
     "name": "stdout",
     "output_type": "stream",
     "text": [
      "True\n",
      "True\n",
      "True\n",
      "False\n"
     ]
    }
   ],
   "source": [
    "a = 122\n",
    "b = 122 # 0-255的数字会被缓存，所以地址是一样的，超过255不一定。\n",
    "\n",
    "print(a==b)\n",
    "print(a is b)\n",
    "\n",
    "class ex:\n",
    "    def __init__(self, v):\n",
    "        self.e = v\n",
    "    def __eq__(self,other):\n",
    "        return self.e == other.e\n",
    "        \n",
    "a = ex(1)\n",
    "b = ex(1)\n",
    "print(a==b)\n",
    "print(a is b)"
   ]
  },
  {
   "cell_type": "raw",
   "id": "35b99af9-ced6-471a-9291-20c94a537139",
   "metadata": {},
   "source": [
    "浅拷贝和深拷贝\n",
    "浅拷贝是拷贝了对象的引用，当原对象发生变化的时候，拷贝对象也跟着变化；\n",
    "深拷贝是另外申请了一块内存，内容和原对象一样，更改原对象，拷贝对象不会发生变化。\n",
    "\n",
    "python浅拷贝是开辟的新的内存空间，来存储子对象的引用。与golang的浅拷贝直接指向原地址不同。\n",
    "所以浅拷贝的is也是不相等的。\n",
    "\n",
    "可以通过copy.copy也可以通过[:]创建浅拷贝 \n",
    "通过copy.deepcopy创建深拷贝"
   ]
  },
  {
   "cell_type": "code",
   "execution_count": 18,
   "id": "74931784-4827-4e21-89c1-ba462b41c1a2",
   "metadata": {},
   "outputs": [
    {
     "name": "stdout",
     "output_type": "stream",
     "text": [
      "[1, 2, 4]\n",
      "[1, 2, 3]\n"
     ]
    }
   ],
   "source": [
    "l1 = [1, 2, 3]\n",
    "l2 = l1[:] # 浅拷贝，数字不存在子对象直接拷贝所有内容\n",
    "l1[2] = l2[2] + 1 # Python 的数据类型，例如整型（int）、字符串（string）等等，是不可变的。 所以l1[2] = l2[2] + 1实际上是把指向3改为指向4\n",
    "print(l1)\n",
    "print(l2)"
   ]
  },
  {
   "cell_type": "code",
   "execution_count": null,
   "id": "deb6af63-e22d-4616-81b1-a67c7a427c44",
   "metadata": {},
   "outputs": [],
   "source": [
    "l1 = [[1,2],[3,4]]\n",
    "l2 = l1[:]  #浅拷贝，仅拷贝子列表的引用\n",
    "l2[1][0] = 2 #l1的子对象也会跟着改变\n",
    "print(l1)\n",
    "print(l2) \n"
   ]
  },
  {
   "cell_type": "code",
   "execution_count": 19,
   "id": "1dc5cb5c-14a1-407c-8e6d-db75086502bd",
   "metadata": {},
   "outputs": [
    {
     "name": "stdout",
     "output_type": "stream",
     "text": [
      "[1, 2, 4]\n",
      "[1, 2, 4]\n"
     ]
    }
   ],
   "source": [
    "l1 = [1, 2, 3]\n",
    "l2 = l1 # 非浅拷贝，l1和l2直接指向同一个对象\n",
    "l1[2] = l2[2] + 1\n",
    "print(l1)\n",
    "print(l2)\n"
   ]
  },
  {
   "cell_type": "code",
   "execution_count": null,
   "id": "68d02bc6-270f-4085-81dc-533ccef62b40",
   "metadata": {},
   "outputs": [],
   "source": [
    "import copy\n",
    "l1 = [[1,2],[3,4]] \n",
    "l2 = copy.deepcopy(l1) #深拷贝，开辟新内存，全量拷贝\n",
    "l2[1][0] = 2 #l1的子对象不会跟着改变\n",
    "print(l1)\n",
    "print(l2) "
   ]
  },
  {
   "cell_type": "raw",
   "id": "77de710e-f554-45dd-9e49-78fa087759cd",
   "metadata": {},
   "source": [
    "函数参数传递：\n",
    "和其他语言不同的是，Python 中参数的传递既不是值传递，也不是引用传递，而是赋值传递，或者是叫对象的引用传递。需要注意的是，这里的赋值或对象的引用传递，不是指向一个具体的内存地址，而是指向一个具体的对象。如果对象是可变的，当其改变时，所有指向这个对象的变量都会改变。如果对象不可变，简单的赋值只能改变其中一个变量的值，其余变量则不受影响。清楚了这一点，如果你想通过一个函数来改变某个变量的值，通常有两种方法。一种是直接将可变数据类型（比如列表，字典，集合）当作参数传入，直接在其上修改；第二种则是创建一个新变量，来保存修改后的值，然后将其返回给原变量。在实际工作中，我们更倾向于使用后者，因为其表达清晰明了，不易出错。\n",
    "\n",
    "和golang一样，都是新建一个对象指向原来的对象的内存。当原来的对象是可以修改的(list、dict、set)那么在函数中修改参数，会影响原来的参数。如果原来的对象是不可修改的(num,str,tuple)那么会新开内存，不会影响原来的参数。"
   ]
  },
  {
   "cell_type": "code",
   "execution_count": 24,
   "id": "9e63d9d6-ae92-4cf5-bb02-b939fb45d52d",
   "metadata": {},
   "outputs": [
    {
     "name": "stdout",
     "output_type": "stream",
     "text": [
      "[1, 2, 3, 4, 1]\n",
      "[1, 2, 3, 4]\n",
      "abc\n",
      "1\n"
     ]
    }
   ],
   "source": [
    "def change(val):\n",
    "    val.append(1) #val和a指向同一个对象，list是可变类型，修改val会影响a\n",
    "\n",
    "a = [1,2,3,4]\n",
    "change(a)\n",
    "print(a)\n",
    "\n",
    "def change(val):\n",
    "    val=val+[1,2] ##val和a指向同一个对象，list是可变类型，但是+会导致新建一个list，修改val没有会影响a原来的指向\n",
    "\n",
    "a = [1,2,3,4]\n",
    "change(a)\n",
    "print(a)\n",
    "\n",
    "def change(val):\n",
    "    val = \"cba\" ##val和a指向同一个对象，str是不可变类型，修改val会重新指向新对象，不会影响a\n",
    "\n",
    "a = \"abc\"\n",
    "change(a)\n",
    "print(a)\n",
    "\n",
    "def change(val):\n",
    "    val = 2 ##val和a指向同一个对象，num是不可变类型，修改val会重新指向新对象，不会影响a\n",
    "\n",
    "a = 1\n",
    "change(a)\n",
    "print(a)\n"
   ]
  },
  {
   "cell_type": "raw",
   "id": "a80225e0-3ca3-4e0e-b325-fabf3dc842fd",
   "metadata": {},
   "source": [
    "装饰器，其实就是通过装饰器函数，来修改原函数的一些功能，使得原函数不需要修改。类似于trpc中的拦截器。\n",
    "可以用于做函数调用前校验、函数调用统计、函数调用重试等。"
   ]
  },
  {
   "cell_type": "code",
   "execution_count": 32,
   "id": "f0a694c0-0794-454f-9e2f-07e7976fead6",
   "metadata": {},
   "outputs": [
    {
     "name": "stdout",
     "output_type": "stream",
     "text": [
      "xx\n",
      "xx\n",
      "xx\n",
      "xx\n",
      "wrapper\n",
      "xx\n",
      "xx\n",
      "xx\n",
      "xx\n",
      "output1\n"
     ]
    }
   ],
   "source": [
    "def repeat(num):\n",
    "    def mydecorator(func): \n",
    "        # wrapper的参数固定这个就好了\n",
    "        def wrapper(*args,**kwargs):\n",
    "            for i in range(0,num):\n",
    "                func(*args,**kwargs)\n",
    "        return wrapper\n",
    "    return mydecorator\n",
    "\n",
    "@repeat(4)\n",
    "def output1(msg):\n",
    "    print(msg)\n",
    "\n",
    "\n",
    "\n",
    "output1(\"xx\")\n",
    "\n",
    "print(output1.__name__)\n",
    "\n",
    "import functools\n",
    "\n",
    "def repeat(num):\n",
    "    def mydecorator(func): \n",
    "        @functools.wraps(func) # 不改变原函数的metadata信息\n",
    "        def wrapper(*args,**kwargs):\n",
    "            for i in range(0,num):\n",
    "                func(*args,**kwargs)\n",
    "        return wrapper\n",
    "    return mydecorator\n",
    "\n",
    "@repeat(4)\n",
    "def output1(msg):\n",
    "    print(msg)\n",
    "\n",
    "\n",
    "\n",
    "output1(\"xx\")\n",
    "\n",
    "print(output1.__name__)\n",
    "        "
   ]
  },
  {
   "cell_type": "raw",
   "id": "a8b57bae-9134-4d7a-bae7-bc53a91c1386",
   "metadata": {},
   "source": [
    "实际上，类也可以作为装饰器。类装饰器主要依赖于函数__call_()，每当你调用一个类的示例时，函数__call__()就会被执行一次。"
   ]
  },
  {
   "cell_type": "code",
   "execution_count": 37,
   "id": "9a7316e1-1341-4529-b01b-2caad369c174",
   "metadata": {},
   "outputs": [
    {
     "name": "stdout",
     "output_type": "stream",
     "text": [
      "1\n",
      "hello\n",
      "2\n",
      "hello\n"
     ]
    }
   ],
   "source": [
    "class count:\n",
    "    def __init__(self,func):\n",
    "        self.count = 0\n",
    "        self.func = func\n",
    "    def __call__(self,*args,**kwargs):\n",
    "        self.count = self.count+1\n",
    "        print(self.count)\n",
    "        self.func(*args,**kwargs)\n",
    "\n",
    "\n",
    "@count\n",
    "def calltime(msg):\n",
    "    print(msg)\n",
    "\n",
    "\n",
    "calltime(\"hello\")\n",
    "calltime(\"hello\")\n"
   ]
  },
  {
   "cell_type": "raw",
   "id": "c7200844-8b9a-40e4-9d8f-3ba4654ab175",
   "metadata": {},
   "source": [
    "装饰器支持嵌套：\n",
    "\n",
    "@decorator1\n",
    "@decorator2\n",
    "@decorator3\n",
    "def func....\n",
    "\n",
    "--> decorator1(decorator2(decorator3(func)))"
   ]
  },
  {
   "cell_type": "raw",
   "id": "630bab79-1ec8-4dcc-9831-ea09121f3bf5",
   "metadata": {},
   "source": [
    "迭代器\n",
    "\n",
    "python中的容器类似于c++的STL容器概念。\n",
    "list、tuple、dict、set都是容器，只是底层实现方法不同。容器都是可迭代的，因为其实现了next方法。\n",
    "\n",
    "可以通过iter(obj)或者isinstance(obj,iterable)函数判断对象是否可迭代。"
   ]
  },
  {
   "cell_type": "raw",
   "id": "b33c9248-15c8-4af3-857e-6e17207ab899",
   "metadata": {},
   "source": [
    "生成器\n",
    "\n",
    "生成器用于生成可迭代容器。它是一个元素一个元素的生成，并不需要一次性生成全部元素，因此可以是无尽的，还不会占用大量内存。\n",
    "\n",
    "yield关键词：执行到yield时会生成一个元素，然后暂停，通过next()函数获取该元素后，再生成下一个元素\n"
   ]
  },
  {
   "cell_type": "code",
   "execution_count": 1,
   "id": "38885588-61f5-4591-b85c-db24ce0ec018",
   "metadata": {},
   "outputs": [
    {
     "name": "stdout",
     "output_type": "stream",
     "text": [
      "<generator object <genexpr> at 0x7f6f2eaa0a00>\n",
      "0\n",
      "1\n",
      "4\n",
      "9\n",
      "16\n",
      "25\n",
      "36\n",
      "49\n",
      "[8, 9, 10, 11, 12, 13, 14, 15, 16, 17, 18, 19]\n",
      "1\n",
      "4\n",
      "9\n",
      "16\n",
      "25\n",
      "36\n",
      "49\n",
      "64\n"
     ]
    }
   ],
   "source": [
    "list_2 = (i for i in range(20)) # ()用于生成器\n",
    "\n",
    "print(list_2)\n",
    "\n",
    "for i in range(0,8):\n",
    "    v = next(list_2)\n",
    "    print(v*v)\n",
    "\n",
    "print(list(list_2))\n",
    "\n",
    "def generatnum(): # 定义生成器\n",
    "    i = 1\n",
    "    while True:\n",
    "        yield i*i # 生成之后会停住，等待next\n",
    "        i = i + 1\n",
    "\n",
    "\n",
    "gen = generatnum()\n",
    "\n",
    "for i in range(0,8): # 使用next获取元素\n",
    "    num = next(gen)  \n",
    "    print(num)\n",
    "        \n",
    "        \n",
    "\n",
    "\n"
   ]
  },
  {
   "cell_type": "raw",
   "id": "ad1261c3-118b-4faa-b308-aceec51870bd",
   "metadata": {},
   "source": [
    "协程\n",
    "\n",
    "python协程和golang协程是一个概念。都是用户侧的线程，超轻量级切换。 \n",
    "\n",
    "同步非阻塞编程方式。\n",
    "\n",
    "使用async将一个函数转换为协程对象。\n",
    "\n",
    "使用asyncio.run或者await执行主协程。\n",
    "使用asyncio.create_task创建其他协程并加入执行队列，会返回一系列协程tasks。\n",
    "使用for task in tasks: await task来执行这些协程。 或者使用asyncio.gather(*tasks)。"
   ]
  },
  {
   "cell_type": "code",
   "execution_count": 7,
   "id": "4c6a9cf7-47a0-4cfd-9081-3e34147cb281",
   "metadata": {},
   "outputs": [
    {
     "name": "stdout",
     "output_type": "stream",
     "text": [
      "begin 1\n",
      "begin 2\n",
      "begin 3\n",
      "end 1\n",
      "end 2\n",
      "end 3\n"
     ]
    }
   ],
   "source": [
    "import asyncio\n",
    "\n",
    "\n",
    "async def query(url):\n",
    "    tag = url.split('_')[-1]\n",
    "    print(f'begin {tag}')\n",
    "    await asyncio.sleep(int(tag))  # 将tag转换为整数\n",
    "    print(f'end {tag}')\n",
    "\n",
    "\n",
    "async def main(url_list):\n",
    "    tasks = [asyncio.create_task(query(url)) for url in url_list]\n",
    "    await asyncio.gather(*tasks)\n",
    "\n",
    "\n",
    "await main([\"url_1\",\"url_2\",\"url_3\"])"
   ]
  },
  {
   "cell_type": "raw",
   "id": "115836b8-8422-42bf-9ded-5414dbfcec33",
   "metadata": {},
   "source": [
    "线程/进程\n",
    "\n",
    "golang中，一个进程会根据cpu核数开启对应数量的线程，每个线程都对应多个协程，线程并行运行。\n",
    "\n",
    "python中，一个进程可以开启多个线程，但是这些线程因为python解释器并发不安全的原因，只能通过全局解释器锁实现串行运行，因此即使有多个cpu核心，多线程模式下也只有一个核心会工作。\n",
    "想要利用多核心的优势，只能做多进程，每个进程对应一个线程，一个线程对应多个协程。\n",
    "\n",
    "\n",
    "不过在I/O密集性工作中，多线程和多协程是可以满足的。在cpu密集型工作中，需要开启多进程。"
   ]
  },
  {
   "cell_type": "code",
   "execution_count": 11,
   "id": "a25398b5-722f-44fe-94d4-0a516369c844",
   "metadata": {},
   "outputs": [
    {
     "name": "stdout",
     "output_type": "stream",
     "text": [
      "begin 1\n",
      "begin 2\n",
      "end 1\n",
      "begin 3\n",
      "Task for url_1 completed with result: 1\n",
      "end 2\n",
      "Task for url_2 completed with result: 2\n",
      "end 3\n",
      "Task for url_3 completed with result: 3\n"
     ]
    }
   ],
   "source": [
    "import concurrent.futures\n",
    "import time\n",
    "\n",
    "def query(url):\n",
    "    tag = url.split('_')[-1]\n",
    "    print(f'begin {tag}')\n",
    "    time.sleep(int(tag))\n",
    "    print(f'end {tag}')\n",
    "    return tag\n",
    "\n",
    "def main(url_list):\n",
    "    with concurrent.futures.ThreadPoolExecutor(max_workers=2) as executor:\n",
    "        futures = {executor.submit(query, url): url for url in url_list}  #提交任务，并存储futures字典\n",
    "        for future in concurrent.futures.as_completed(futures): # 使用concurrent.futures.as_completed()方法遍历已完成的任务\n",
    "            url = futures[future]\n",
    "            try:\n",
    "                result = future.result()\n",
    "            except Exception as e:\n",
    "                print(f'Task for {url} generated an exception: {e}')\n",
    "            else:\n",
    "                print(f'Task for {url} completed with result: {result}')\n",
    "\n",
    "main([\"url_1\",\"url_2\",\"url_3\"])\n"
   ]
  },
  {
   "cell_type": "raw",
   "id": "b2bdcd41-9d93-4ff9-943b-9799ee041072",
   "metadata": {},
   "source": [
    "如果是 I/O bound，并且 I/O 操作很慢，需要很多任务 / 线程协同实现，那么使用 Asyncio 更合适。\n",
    "如果是 I/O bound，但是 I/O 操作很快，只需要有限数量的任务 / 线程，那么使用多线程就可以了。\n",
    "如果是 CPU bound，则需要使用多进程来提高程序运行效率。"
   ]
  },
  {
   "cell_type": "raw",
   "id": "5005c029-8d9f-46d1-a5e4-dca46d90767f",
   "metadata": {},
   "source": [
    "GIL是在cpython解释器中的特性，同一时间仅允许一个线程执行。\n",
    "\n",
    "主要原因是：\n",
    "1.可以规避线程竞争导致的不一致问题，例如内存回收引用计数，如果多线程同时运行，可能导致计数错误问题。\n",
    "2.c库本身很多就是线程不安全的。\n",
    "\n",
    "如何切换线程 ---> 操作系统调度和checkinterval\n",
    "\n",
    "因为存在checkinterval，所以还是存在线程抢占的问题，所以编程的时候还是需要依赖线程锁。 threading.lock()。\n",
    "\n",
    "如何绕过GIL：\n",
    "1.多进程\n",
    "2.c库实现并发\n",
    "3.切换到jpython解释器，java\n"
   ]
  },
  {
   "cell_type": "raw",
   "id": "b717adbd-2f77-432d-9ce7-6e6e498457e3",
   "metadata": {},
   "source": [
    "垃圾回收\n",
    "python自动进行垃圾回收。\n",
    "\n",
    "python垃圾回收以引用计数为主，以标记清除和分代回收为辅。\n",
    "标记清除和分代回收主要是为了解决循环引用的问题。\n",
    "\n",
    "分代回收主要是降低stw扫描的时间，假设存活时间越久，约不需要进行垃圾回收。所以分成3代，新对象都在第一代，第一轮扫描之后存活对象进入第二代，第二轮扫面之后存活对象进入第三代。每代触发扫描的阈值依次提高，指新进入的对象减去删除对象达到阈值开始进行扫描回收。\n",
    "\n",
    "可以通过gc.collect()手动出发gc。\n",
    "\n",
    "查看对象引用关系: objgraph.show_refs()。来调试内存泄漏。\n"
   ]
  },
  {
   "cell_type": "code",
   "execution_count": 14,
   "id": "9b7752fa-af9b-4dda-a9f9-8cfd9c23d7a4",
   "metadata": {},
   "outputs": [
    {
     "ename": "SyntaxError",
     "evalue": "invalid syntax (1287668111.py, line 1)",
     "output_type": "error",
     "traceback": [
      "\u001b[0;36m  Cell \u001b[0;32mIn[14], line 1\u001b[0;36m\u001b[0m\n\u001b[0;31m    pip install objgraph\u001b[0m\n\u001b[0m        ^\u001b[0m\n\u001b[0;31mSyntaxError\u001b[0m\u001b[0;31m:\u001b[0m invalid syntax\n"
     ]
    }
   ],
   "source": [
    "import objgraph\n",
    "a = []\n",
    "b = a\n",
    "c = b\n",
    "d = c\n",
    "\n",
    "objgraph.show_refs()"
   ]
  },
  {
   "cell_type": "code",
   "execution_count": null,
   "id": "c87f27a2-812b-4936-a596-6e19eb16c8d8",
   "metadata": {},
   "outputs": [],
   "source": []
  }
 ],
 "metadata": {
  "kernelspec": {
   "display_name": "Python 3 (ipykernel)",
   "language": "python",
   "name": "python3"
  },
  "language_info": {
   "codemirror_mode": {
    "name": "ipython",
    "version": 3
   },
   "file_extension": ".py",
   "mimetype": "text/x-python",
   "name": "python",
   "nbconvert_exporter": "python",
   "pygments_lexer": "ipython3",
   "version": "3.11.5"
  }
 },
 "nbformat": 4,
 "nbformat_minor": 5
}
